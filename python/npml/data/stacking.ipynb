{
  "cells": [
    {
      "cell_type": "markdown",
      "source": [
        "用泰坦尼克号的实例来讲解stack怎么用"
      ],
      "metadata": {}
    },
    {
      "cell_type": "code",
      "source": [
        "import pandas as pd\n",
        "import numpy as np\n",
        "import re\n",
        "import sklearn\n",
        "import xgboost as xgb\n",
        "import seaborn as sns\n",
        "import matplotlib.pyplot as plt\n",
        "\n",
        "import plotly.offline as py\n",
        "py.init_notebook_mode(connected=True)\n",
        "import plotly.graph_objs as go\n",
        "import plotly.tools as tls\n",
        "\n",
        "import warnings\n",
        "warnings.filterwarnings('ignore')\n",
        "\n",
        "from sklearn.ensemble import RandomForestClassifier, AdaBoostClassifier, GradientBoostingClassifier, ExtraTreesClassifier\n",
        "from sklearn.svm import SVC\n",
        "from sklearn.cross_validation import KFold"
      ],
      "outputs": [
        {
          "output_type": "display_data",
          "data": {
            "text/html": [
              "<script>requirejs.config({paths: { 'plotly': ['https://cdn.plot.ly/plotly-latest.min']},});if(!window.Plotly) {{require(['plotly'],function(plotly) {window.Plotly=plotly;});}}</script>"
            ],
            "text/vnd.plotly.v1+html": [
              "<script>requirejs.config({paths: { 'plotly': ['https://cdn.plot.ly/plotly-latest.min']},});if(!window.Plotly) {{require(['plotly'],function(plotly) {window.Plotly=plotly;});}}</script>"
            ]
          },
          "metadata": {}
        }
      ],
      "execution_count": 1,
      "metadata": {
        "collapsed": false,
        "outputHidden": false,
        "inputHidden": false
      }
    },
    {
      "cell_type": "code",
      "source": [
        "# 加载数据\n",
        "train = pd.read_csv('train.csv')\n",
        "test = pd.read_csv('test.csv')\n",
        "\n",
        "# 存储我们的乘客id\n",
        "PassengerId = test['PassengerId']\n",
        "train.head(3)"
      ],
      "outputs": [
        {
          "output_type": "execute_result",
          "execution_count": 2,
          "data": {
            "text/plain": [
              "   PassengerId  Survived  Pclass  \\\n",
              "0            1         0       3   \n",
              "1            2         1       1   \n",
              "2            3         1       3   \n",
              "\n",
              "                                                Name     Sex   Age  SibSp  \\\n",
              "0                            Braund, Mr. Owen Harris    male  22.0      1   \n",
              "1  Cumings, Mrs. John Bradley (Florence Briggs Th...  female  38.0      1   \n",
              "2                             Heikkinen, Miss. Laina  female  26.0      0   \n",
              "\n",
              "   Parch            Ticket     Fare Cabin Embarked  \n",
              "0      0         A/5 21171   7.2500   NaN        S  \n",
              "1      0          PC 17599  71.2833   C85        C  \n",
              "2      0  STON/O2. 3101282   7.9250   NaN        S  "
            ],
            "text/html": [
              "<div>\n",
              "<style scoped>\n",
              "    .dataframe tbody tr th:only-of-type {\n",
              "        vertical-align: middle;\n",
              "    }\n",
              "\n",
              "    .dataframe tbody tr th {\n",
              "        vertical-align: top;\n",
              "    }\n",
              "\n",
              "    .dataframe thead th {\n",
              "        text-align: right;\n",
              "    }\n",
              "</style>\n",
              "<table border=\"1\" class=\"dataframe\">\n",
              "  <thead>\n",
              "    <tr style=\"text-align: right;\">\n",
              "      <th></th>\n",
              "      <th>PassengerId</th>\n",
              "      <th>Survived</th>\n",
              "      <th>Pclass</th>\n",
              "      <th>Name</th>\n",
              "      <th>Sex</th>\n",
              "      <th>Age</th>\n",
              "      <th>SibSp</th>\n",
              "      <th>Parch</th>\n",
              "      <th>Ticket</th>\n",
              "      <th>Fare</th>\n",
              "      <th>Cabin</th>\n",
              "      <th>Embarked</th>\n",
              "    </tr>\n",
              "  </thead>\n",
              "  <tbody>\n",
              "    <tr>\n",
              "      <th>0</th>\n",
              "      <td>1</td>\n",
              "      <td>0</td>\n",
              "      <td>3</td>\n",
              "      <td>Braund, Mr. Owen Harris</td>\n",
              "      <td>male</td>\n",
              "      <td>22.0</td>\n",
              "      <td>1</td>\n",
              "      <td>0</td>\n",
              "      <td>A/5 21171</td>\n",
              "      <td>7.2500</td>\n",
              "      <td>NaN</td>\n",
              "      <td>S</td>\n",
              "    </tr>\n",
              "    <tr>\n",
              "      <th>1</th>\n",
              "      <td>2</td>\n",
              "      <td>1</td>\n",
              "      <td>1</td>\n",
              "      <td>Cumings, Mrs. John Bradley (Florence Briggs Th...</td>\n",
              "      <td>female</td>\n",
              "      <td>38.0</td>\n",
              "      <td>1</td>\n",
              "      <td>0</td>\n",
              "      <td>PC 17599</td>\n",
              "      <td>71.2833</td>\n",
              "      <td>C85</td>\n",
              "      <td>C</td>\n",
              "    </tr>\n",
              "    <tr>\n",
              "      <th>2</th>\n",
              "      <td>3</td>\n",
              "      <td>1</td>\n",
              "      <td>3</td>\n",
              "      <td>Heikkinen, Miss. Laina</td>\n",
              "      <td>female</td>\n",
              "      <td>26.0</td>\n",
              "      <td>0</td>\n",
              "      <td>0</td>\n",
              "      <td>STON/O2. 3101282</td>\n",
              "      <td>7.9250</td>\n",
              "      <td>NaN</td>\n",
              "      <td>S</td>\n",
              "    </tr>\n",
              "  </tbody>\n",
              "</table>\n",
              "</div>"
            ]
          },
          "metadata": {}
        }
      ],
      "execution_count": 2,
      "metadata": {
        "collapsed": false,
        "outputHidden": false,
        "inputHidden": false
      }
    },
    {
      "cell_type": "code",
      "source": [
        "# 特征工程\n",
        "\n",
        "full_data = [train, test]\n",
        "\n",
        "## 添加一些自定义的特征\n",
        "train['Name_length'] = train['Name'].apply(len)\n",
        "test['Name_length'] = test['Name'].apply(len)\n",
        "## 乘客是否在泰坦尼克号上有一个小屋\n",
        "train['Has_Cabin'] = train[\"Cabin\"].apply(lambda x: 0 if type(x) == float else 1)\n",
        "test['Has_Cabin'] = test[\"Cabin\"].apply(lambda x: 0 if type(x) == float else 1)\n",
        "\n\n",
        "# Feature engineering steps taken from Sina\n",
        "# Create new feature FamilySize as a combination of SibSp and Parch\n",
        "for dataset in full_data:\n",
        "    dataset['FamilySize'] = dataset['SibSp'] + dataset['Parch'] + 1\n",
        "# Create new feature IsAlone from FamilySize\n",
        "for dataset in full_data:\n",
        "    dataset['IsAlone'] = 0\n",
        "    dataset.loc[dataset['FamilySize'] == 1, 'IsAlone'] = 1\n",
        "# Remove all NULLS in the Embarked column\n",
        "for dataset in full_data:\n",
        "    dataset['Embarked'] = dataset['Embarked'].fillna('S')\n",
        "# Remove all NULLS in the Fare column and create a new feature CategoricalFare\n",
        "for dataset in full_data:\n",
        "    dataset['Fare'] = dataset['Fare'].fillna(train['Fare'].median())\n",
        "train['CategoricalFare'] = pd.qcut(train['Fare'], 4)\n",
        "# Create a New feature CategoricalAge\n",
        "for dataset in full_data:\n",
        "    age_avg = dataset['Age'].mean()\n",
        "    age_std = dataset['Age'].std()\n",
        "    age_null_count = dataset['Age'].isnull().sum()\n",
        "    age_null_random_list = np.random.randint(age_avg - age_std, age_avg + age_std, size=age_null_count)\n",
        "    dataset['Age'][np.isnan(dataset['Age'])] = age_null_random_list\n",
        "    dataset['Age'] = dataset['Age'].astype(int)\n",
        "train['CategoricalAge'] = pd.cut(train['Age'], 5)\n",
        "# Define function to extract titles from passenger names\n",
        "def get_title(name):\n",
        "    title_search = re.search(' ([A-Za-z]+)\\.', name)\n",
        "    # If the title exists, extract and return it.\n",
        "    if title_search:\n",
        "        return title_search.group(1)\n",
        "    return \"\"\n",
        "# Create a new feature Title, containing the titles of passenger names\n",
        "for dataset in full_data:\n",
        "    dataset['Title'] = dataset['Name'].apply(get_title)\n",
        "# Group all non-common titles into one single grouping \"Rare\"\n",
        "for dataset in full_data:\n",
        "    dataset['Title'] = dataset['Title'].replace(['Lady', 'Countess','Capt', 'Col','Don', 'Dr', 'Major', 'Rev', 'Sir', 'Jonkheer', 'Dona'], 'Rare')\n",
        "\n",
        "    dataset['Title'] = dataset['Title'].replace('Mlle', 'Miss')\n",
        "    dataset['Title'] = dataset['Title'].replace('Ms', 'Miss')\n",
        "    dataset['Title'] = dataset['Title'].replace('Mme', 'Mrs')\n",
        "\n",
        "for dataset in full_data:\n",
        "    # Mapping Sex\n",
        "    dataset['Sex'] = dataset['Sex'].map( {'female': 0, 'male': 1} ).astype(int)\n",
        "    \n",
        "    # Mapping titles\n",
        "    title_mapping = {\"Mr\": 1, \"Miss\": 2, \"Mrs\": 3, \"Master\": 4, \"Rare\": 5}\n",
        "    dataset['Title'] = dataset['Title'].map(title_mapping)\n",
        "    dataset['Title'] = dataset['Title'].fillna(0)\n",
        "    \n",
        "    # Mapping Embarked\n",
        "    dataset['Embarked'] = dataset['Embarked'].map( {'S': 0, 'C': 1, 'Q': 2} ).astype(int)\n",
        "    \n",
        "    # Mapping Fare\n",
        "    dataset.loc[ dataset['Fare'] <= 7.91, 'Fare'] \t\t\t\t\t\t        = 0\n",
        "    dataset.loc[(dataset['Fare'] > 7.91) & (dataset['Fare'] <= 14.454), 'Fare'] = 1\n",
        "    dataset.loc[(dataset['Fare'] > 14.454) & (dataset['Fare'] <= 31), 'Fare']   = 2\n",
        "    dataset.loc[ dataset['Fare'] > 31, 'Fare'] \t\t\t\t\t\t\t        = 3\n",
        "    dataset['Fare'] = dataset['Fare'].astype(int)\n",
        "    \n",
        "    # Mapping Age\n",
        "    dataset.loc[ dataset['Age'] <= 16, 'Age'] \t\t\t\t\t       = 0\n",
        "    dataset.loc[(dataset['Age'] > 16) & (dataset['Age'] <= 32), 'Age'] = 1\n",
        "    dataset.loc[(dataset['Age'] > 32) & (dataset['Age'] <= 48), 'Age'] = 2\n",
        "    dataset.loc[(dataset['Age'] > 48) & (dataset['Age'] <= 64), 'Age'] = 3\n",
        "    dataset.loc[ dataset['Age'] > 64, 'Age'] = 4"
      ],
      "outputs": [],
      "execution_count": 3,
      "metadata": {
        "collapsed": false,
        "outputHidden": false,
        "inputHidden": false
      }
    },
    {
      "cell_type": "code",
      "source": [
        "# 特征选择\n",
        "\n",
        "drop_elements = ['PassengerId', 'Name', 'Ticket', 'Cabin', 'SibSp']\n",
        "train = train.drop(drop_elements, axis = 1)\n",
        "train = train.drop(['CategoricalAge', 'CategoricalFare'], axis = 1)\n",
        "test  = test.drop(drop_elements, axis = 1)"
      ],
      "outputs": [],
      "execution_count": 4,
      "metadata": {
        "collapsed": false,
        "outputHidden": false,
        "inputHidden": false
      }
    },
    {
      "cell_type": "code",
      "source": [
        "# 可视化\n",
        "train.head(3)"
      ],
      "outputs": [
        {
          "output_type": "execute_result",
          "execution_count": 5,
          "data": {
            "text/plain": [
              "   Survived  Pclass  Sex  Age  Parch  Fare  Embarked  Name_length  Has_Cabin  \\\n",
              "0         0       3    1    1      0     0         0           23          0   \n",
              "1         1       1    0    2      0     3         1           51          1   \n",
              "2         1       3    0    1      0     1         0           22          0   \n",
              "\n",
              "   FamilySize  IsAlone  Title  \n",
              "0           2        0      1  \n",
              "1           2        0      3  \n",
              "2           1        1      2  "
            ],
            "text/html": [
              "<div>\n",
              "<style scoped>\n",
              "    .dataframe tbody tr th:only-of-type {\n",
              "        vertical-align: middle;\n",
              "    }\n",
              "\n",
              "    .dataframe tbody tr th {\n",
              "        vertical-align: top;\n",
              "    }\n",
              "\n",
              "    .dataframe thead th {\n",
              "        text-align: right;\n",
              "    }\n",
              "</style>\n",
              "<table border=\"1\" class=\"dataframe\">\n",
              "  <thead>\n",
              "    <tr style=\"text-align: right;\">\n",
              "      <th></th>\n",
              "      <th>Survived</th>\n",
              "      <th>Pclass</th>\n",
              "      <th>Sex</th>\n",
              "      <th>Age</th>\n",
              "      <th>Parch</th>\n",
              "      <th>Fare</th>\n",
              "      <th>Embarked</th>\n",
              "      <th>Name_length</th>\n",
              "      <th>Has_Cabin</th>\n",
              "      <th>FamilySize</th>\n",
              "      <th>IsAlone</th>\n",
              "      <th>Title</th>\n",
              "    </tr>\n",
              "  </thead>\n",
              "  <tbody>\n",
              "    <tr>\n",
              "      <th>0</th>\n",
              "      <td>0</td>\n",
              "      <td>3</td>\n",
              "      <td>1</td>\n",
              "      <td>1</td>\n",
              "      <td>0</td>\n",
              "      <td>0</td>\n",
              "      <td>0</td>\n",
              "      <td>23</td>\n",
              "      <td>0</td>\n",
              "      <td>2</td>\n",
              "      <td>0</td>\n",
              "      <td>1</td>\n",
              "    </tr>\n",
              "    <tr>\n",
              "      <th>1</th>\n",
              "      <td>1</td>\n",
              "      <td>1</td>\n",
              "      <td>0</td>\n",
              "      <td>2</td>\n",
              "      <td>0</td>\n",
              "      <td>3</td>\n",
              "      <td>1</td>\n",
              "      <td>51</td>\n",
              "      <td>1</td>\n",
              "      <td>2</td>\n",
              "      <td>0</td>\n",
              "      <td>3</td>\n",
              "    </tr>\n",
              "    <tr>\n",
              "      <th>2</th>\n",
              "      <td>1</td>\n",
              "      <td>3</td>\n",
              "      <td>0</td>\n",
              "      <td>1</td>\n",
              "      <td>0</td>\n",
              "      <td>1</td>\n",
              "      <td>0</td>\n",
              "      <td>22</td>\n",
              "      <td>0</td>\n",
              "      <td>1</td>\n",
              "      <td>1</td>\n",
              "      <td>2</td>\n",
              "    </tr>\n",
              "  </tbody>\n",
              "</table>\n",
              "</div>"
            ]
          },
          "metadata": {}
        }
      ],
      "execution_count": 5,
      "metadata": {
        "collapsed": false,
        "outputHidden": false,
        "inputHidden": false
      }
    },
    {
      "cell_type": "code",
      "source": [
        "# 特征相关系数热力图\n",
        "colormap = plt.cm.RdBu\n",
        "plt.figure(figsize=(14,12))\n",
        "plt.title('Pearson Correlation of Features', y=1.05, size=15)\n",
        "sns.heatmap(train.astype(float).corr(),linewidths=0.1,vmax=1.0, \n",
        "            square=True, cmap=colormap, linecolor='white', annot=True)"
      ],
      "outputs": [
        {
          "output_type": "execute_result",
          "execution_count": 6,
          "data": {
            "text/plain": [
              "<matplotlib.axes._subplots.AxesSubplot at 0x1a13d8d240>"
            ]
          },
          "metadata": {}
        },
        {
          "output_type": "display_data",
          "data": {
            "text/plain": [
              "<Figure size 1008x864 with 2 Axes>"
            ],
            "image/png": "[encoded data removed]"
          },
          "metadata": {}
        }
      ],
      "execution_count": 6,
      "metadata": {
        "collapsed": false,
        "outputHidden": false,
        "inputHidden": false
      }
    },
    {
      "cell_type": "code",
      "source": [
        "# pairplot 显示数据分布情况\n",
        "g = sns.pairplot(train[[u'Survived', u'Pclass', u'Sex', u'Age', u'Parch', u'Fare', u'Embarked',\n",
        "       u'FamilySize', u'Title']], hue='Survived', palette = 'seismic',size=1.2,diag_kind = 'kde',diag_kws=dict(shade=True),plot_kws=dict(s=10) )\n",
        "g.set(xticklabels=[])"
      ],
      "outputs": [
        {
          "output_type": "execute_result",
          "execution_count": 7,
          "data": {
            "text/plain": [
              "<seaborn.axisgrid.PairGrid at 0x1a1f80b6a0>"
            ]
          },
          "metadata": {}
        },
        {
          "output_type": "display_data",
          "data": {
            "text/plain": [
              "<Figure size 829.475x777.6 with 90 Axes>"
            ],
            "image/png": "[encoded data removed]"
          },
          "metadata": {}
        }
      ],
      "execution_count": 7,
      "metadata": {
        "collapsed": false,
        "outputHidden": false,
        "inputHidden": false
      }
    },
    {
      "cell_type": "markdown",
      "source": [
        "## ensembling & stacking"
      ],
      "metadata": {}
    },
    {
      "cell_type": "code",
      "source": [
        "ntrain, ntest = train.shape[0], test.shape[0]\n",
        "SEED = 0  # 随机种子\n",
        "NFOLDS = 5  # KFold数量\n",
        "kf = KFold(ntrain, n_folds=NFOLDS, random_state=SEED)"
      ],
      "outputs": [],
      "execution_count": 8,
      "metadata": {
        "collapsed": false,
        "outputHidden": false,
        "inputHidden": false
      }
    },
    {
      "cell_type": "code",
      "source": [
        "# 编写SklearnHelper类，它允许扩展所有Sklearn分类器共有的内置方法\n",
        "#（如train，predict和fit）。 因此，如果我们想要调用五个不同的分类器，\n",
        "# 这将消除冗余，因为不需要编写相同的方法五次。\n",
        "class SklearnHelper(object):\n",
        "    \n",
        "    def __init__(self, cls, seed=0, params=None):\n",
        "        params['random_state'] = seed\n",
        "        self.cls = cls(**params)\n",
        "        \n",
        "    def train(self, X_train, y_train):\n",
        "        self.cls.fit(X_train, y_train)\n",
        "    \n",
        "    def predict(self, X):\n",
        "        return self.cls.predict(X)\n",
        "    \n",
        "    def fit(self, x, y):\n",
        "        return self.cls.fit(x, y)\n",
        "    \n",
        "    def feature_importances(self, x, y):\n",
        "        importances_ = self.cls.fit(x, y).feature_importances_\n",
        "        print(importances_)\n",
        "        return importances_\n",
        "    "
      ],
      "outputs": [],
      "execution_count": 9,
      "metadata": {
        "collapsed": false,
        "outputHidden": false,
        "inputHidden": false
      }
    },
    {
      "cell_type": "markdown",
      "source": [
        "stacking使用基础分类器的预测结果作为输入进行训练"
      ],
      "metadata": {
        "collapsed": false,
        "outputHidden": false,
        "inputHidden": false
      }
    },
    {
      "cell_type": "markdown",
      "source": [
        "交叉预测(out of fold prediction)"
      ],
      "metadata": {}
    },
    {
      "cell_type": "code",
      "source": [
        "def get_oof(cls, x_train, y_train, x_test):\n",
        "    oof_train = np.zeros((ntrain,))\n",
        "    oof_test = np.zeros((ntest,))\n",
        "    oof_test_skf = np.empty((NFOLDS, ntest))\n",
        "    \n",
        "    for i, (train_index, test_index) in enumerate(kf):\n",
        "        x_tr = x_train[train_index]\n",
        "        y_tr = y_train[train_index]\n",
        "        x_te = x_train[test_index]\n",
        "        \n",
        "        cls.train(x_tr, y_tr)\n",
        "        \n",
        "        oof_train[test_index] = cls.predict(x_te)\n",
        "        oof_test_skf[i, :] = cls.predict(x_test)\n",
        "    \n",
        "    oof_test[:] = oof_test_skf.mean(axis=0)\n",
        "    return oof_train.reshape(-1, 1), oof_test.reshape(-1, 1)"
      ],
      "outputs": [],
      "execution_count": 10,
      "metadata": {}
    },
    {
      "cell_type": "markdown",
      "source": [
        "生成基础一级模型\n",
        "\n",
        "使用五种模型作为一级分类器：\n",
        "- 随机森林\n",
        "- Adaboost\n",
        "- 支持向量机\n",
        "- Extra Trees classifier\n",
        "- Gradient Boosting classifer\n"
      ],
      "metadata": {
        "collapsed": false,
        "outputHidden": false,
        "inputHidden": false
      }
    },
    {
      "cell_type": "code",
      "source": [
        "# 随机森林系数\n",
        "rf_params = {\n",
        "    'n_jobs': -1,\n",
        "    'n_estimators': 500,\n",
        "    'warm_start': True,\n",
        "    'max_depth': 6,\n",
        "    'min_samples_leaf': 2,\n",
        "    'max_features': 'sqrt',\n",
        "    'verbose': 0\n",
        "}\n",
        "\n",
        "# extra trees 系数\n",
        "et_params = {\n",
        "    'n_jobs': -1,\n",
        "    'n_estimators': 500,\n",
        "    'max_depth': 8,\n",
        "    'min_samples_leaf': 2,\n",
        "    'verbose': 0\n",
        "}\n",
        "\n",
        "# Adaboost系数\n",
        "ada_params = {\n",
        "    'n_estimators': 500,\n",
        "    'learning_rate': 0.75\n",
        "}\n",
        "\n",
        "# gradient boosting 系数\n",
        "gb_params = {\n",
        "    'n_estimators': 500,\n",
        "    'max_depth': 5,\n",
        "    'min_samples_leaf': 2,\n",
        "    'verbose': 0\n",
        "}\n",
        "\n",
        "# 支持向量机系数\n",
        "svc_params = {\n",
        "    'kernel': 'linear',\n",
        "    'C': 0.025\n",
        "}"
      ],
      "outputs": [],
      "execution_count": 11,
      "metadata": {}
    },
    {
      "cell_type": "code",
      "source": [
        "# 创建5个对象来表示我们的5个模型\n",
        "rf = SklearnHelper(cls=RandomForestClassifier, seed=SEED, params=rf_params)\n",
        "et = SklearnHelper(cls=ExtraTreesClassifier, seed=SEED, params=et_params)\n",
        "ada=SklearnHelper(cls=AdaBoostClassifier, seed=SEED, params=ada_params)\n",
        "gb = SklearnHelper(cls=GradientBoostingClassifier, seed=SEED, params=gb_params)\n",
        "svc = SklearnHelper(cls=SVC, seed=SEED, params=svc_params)"
      ],
      "outputs": [],
      "execution_count": 12,
      "metadata": {
        "collapsed": false,
        "outputHidden": false,
        "inputHidden": false
      }
    },
    {
      "cell_type": "code",
      "source": [
        "# 创建训练集、测试集和标签提供给上述已创建的模型\n",
        "y_train = train['Survived'].ravel()\n",
        "train = train.drop(['Survived'], axis=1)\n",
        "x_train = train.values\n",
        "x_test = test.values"
      ],
      "outputs": [],
      "execution_count": 13,
      "metadata": {
        "collapsed": false,
        "outputHidden": false,
        "inputHidden": false
      }
    },
    {
      "cell_type": "code",
      "source": [
        "# 训练五个模型\n",
        "et_oof_train, et_oof_test = get_oof(et, x_train, y_train, x_test)\n",
        "\n",
        "rf_oof_train, rf_oof_test = get_oof(rf, x_train, y_train, x_test)\n",
        "\n",
        "ada_oof_train, ada_oof_test = get_oof(ada, x_train, y_train, x_test)\n",
        "\n",
        "gb_oof_train, gb_oof_test = get_oof(gb, x_train, y_train, x_test)\n",
        "\n",
        "svc_oof_train, svc_oof_test = get_oof(svc, x_train, y_train, x_test)\n",
        "\nprint(\"训练完成\")"
      ],
      "outputs": [
        {
          "output_type": "stream",
          "name": "stdout",
          "text": [
            "训练完成\n"
          ]
        }
      ],
      "execution_count": 14,
      "metadata": {
        "collapsed": false,
        "outputHidden": false,
        "inputHidden": false
      }
    },
    {
      "cell_type": "code",
      "source": [
        "# 训练完成后，得到各个特征的重要性\n",
        "rf_feature = rf.feature_importances(x_train, y_train)\n",
        "et_feature = et.feature_importances(x_train, y_train)\n",
        "ada_feature = ada.feature_importances(x_train, y_train)\n",
        "gb_feature = gb.feature_importances(x_train, y_train)\n",
        "# svc没有这个功能"
      ],
      "outputs": [
        {
          "output_type": "stream",
          "name": "stdout",
          "text": [
            "[0.12643217 0.20077646 0.03331051 0.02088074 0.07049249 0.02381242\n",
            " 0.1091715  0.06529151 0.06694347 0.01334803 0.26954071]\n",
            "[0.11737836 0.37807979 0.02904923 0.01658658 0.05649746 0.02734948\n",
            " 0.0459119  0.0838113  0.0484413  0.02194416 0.17495042]\n",
            "[0.028 0.012 0.012 0.066 0.036 0.01  0.71  0.012 0.046 0.004 0.064]\n",
            "[0.08114508 0.03301439 0.10706555 0.0310202  0.09427508 0.05567713\n",
            " 0.38892885 0.01677135 0.07871362 0.02658224 0.08680651]\n"
          ]
        }
      ],
      "execution_count": 15,
      "metadata": {
        "collapsed": false,
        "outputHidden": false,
        "inputHidden": false
      }
    },
    {
      "cell_type": "code",
      "source": [
        "# 创建特征重要性dataframe\n",
        "columns = train.columns.values\n",
        "feature_dataframe = pd.DataFrame( {'features': columns,\n",
        "     'Random Forest feature importances': rf_feature,\n",
        "     'Extra Trees  feature importances': et_feature,\n",
        "      'AdaBoost feature importances': ada_feature,\n",
        "    'Gradient Boost feature importances': gb_feature\n",
        "    })\n",
        "feature_dataframe.head(2)"
      ],
      "outputs": [
        {
          "output_type": "execute_result",
          "execution_count": 19,
          "data": {
            "text/plain": [
              "   AdaBoost feature importances  Extra Trees  feature importances  \\\n",
              "0                         0.028                          0.117378   \n",
              "1                         0.012                          0.378080   \n",
              "\n",
              "   Gradient Boost feature importances  Random Forest feature importances  \\\n",
              "0                            0.081145                           0.126432   \n",
              "1                            0.033014                           0.200776   \n",
              "\n",
              "  features  \n",
              "0   Pclass  \n",
              "1      Sex  "
            ],
            "text/html": [
              "<div>\n",
              "<style scoped>\n",
              "    .dataframe tbody tr th:only-of-type {\n",
              "        vertical-align: middle;\n",
              "    }\n",
              "\n",
              "    .dataframe tbody tr th {\n",
              "        vertical-align: top;\n",
              "    }\n",
              "\n",
              "    .dataframe thead th {\n",
              "        text-align: right;\n",
              "    }\n",
              "</style>\n",
              "<table border=\"1\" class=\"dataframe\">\n",
              "  <thead>\n",
              "    <tr style=\"text-align: right;\">\n",
              "      <th></th>\n",
              "      <th>AdaBoost feature importances</th>\n",
              "      <th>Extra Trees  feature importances</th>\n",
              "      <th>Gradient Boost feature importances</th>\n",
              "      <th>Random Forest feature importances</th>\n",
              "      <th>features</th>\n",
              "    </tr>\n",
              "  </thead>\n",
              "  <tbody>\n",
              "    <tr>\n",
              "      <th>0</th>\n",
              "      <td>0.028</td>\n",
              "      <td>0.117378</td>\n",
              "      <td>0.081145</td>\n",
              "      <td>0.126432</td>\n",
              "      <td>Pclass</td>\n",
              "    </tr>\n",
              "    <tr>\n",
              "      <th>1</th>\n",
              "      <td>0.012</td>\n",
              "      <td>0.378080</td>\n",
              "      <td>0.033014</td>\n",
              "      <td>0.200776</td>\n",
              "      <td>Sex</td>\n",
              "    </tr>\n",
              "  </tbody>\n",
              "</table>\n",
              "</div>"
            ]
          },
          "metadata": {}
        }
      ],
      "execution_count": 19,
      "metadata": {
        "collapsed": false,
        "outputHidden": false,
        "inputHidden": false
      }
    },
    {
      "cell_type": "code",
      "source": [
        "# 绘制特征重要性散点图\n",
        "trace = go.Scatter(\n",
        "    y = feature_dataframe['Random Forest feature importances'].values,\n",
        "    x = feature_dataframe['features'].values,\n",
        "    mode='markers',\n",
        "    marker=dict(\n",
        "        sizemode = 'diameter',\n",
        "        sizeref = 1,\n",
        "        size = 25,\n",
        "#       size= feature_dataframe['AdaBoost feature importances'].values,\n",
        "        #color = np.random.randn(500), #set color equal to a variable\n",
        "        color = feature_dataframe['Random Forest feature importances'].values,\n",
        "        colorscale='Portland',\n",
        "        showscale=True\n",
        "    ),\n",
        "    text = feature_dataframe['features'].values\n",
        ")\n",
        "data = [trace]\n",
        "\n",
        "layout= go.Layout(\n",
        "    autosize= True,\n",
        "    title= 'Random Forest Feature Importance',\n",
        "    hovermode= 'closest',\n",
        "#     xaxis= dict(\n",
        "#         title= 'Pop',\n",
        "#         ticklen= 5,\n",
        "#         zeroline= False,\n",
        "#         gridwidth= 2,\n",
        "#     ),\n",
        "    yaxis=dict(\n",
        "        title= 'Feature Importance',\n",
        "        ticklen= 5,\n",
        "        gridwidth= 2\n",
        "    ),\n",
        "    showlegend= False\n",
        ")\n",
        "fig = go.Figure(data=data, layout=layout)\n",
        "py.iplot(fig,filename='scatter2010')\n",
        "\n",
        "# Scatter plot \n",
        "trace = go.Scatter(\n",
        "    y = feature_dataframe['Extra Trees  feature importances'].values,\n",
        "    x = feature_dataframe['features'].values,\n",
        "    mode='markers',\n",
        "    marker=dict(\n",
        "        sizemode = 'diameter',\n",
        "        sizeref = 1,\n",
        "        size = 25,\n",
        "#       size= feature_dataframe['AdaBoost feature importances'].values,\n",
        "        #color = np.random.randn(500), #set color equal to a variable\n",
        "        color = feature_dataframe['Extra Trees  feature importances'].values,\n",
        "        colorscale='Portland',\n",
        "        showscale=True\n",
        "    ),\n",
        "    text = feature_dataframe['features'].values\n",
        ")\n",
        "data = [trace]\n",
        "\n",
        "layout= go.Layout(\n",
        "    autosize= True,\n",
        "    title= 'Extra Trees Feature Importance',\n",
        "    hovermode= 'closest',\n",
        "#     xaxis= dict(\n",
        "#         title= 'Pop',\n",
        "#         ticklen= 5,\n",
        "#         zeroline= False,\n",
        "#         gridwidth= 2,\n",
        "#     ),\n",
        "    yaxis=dict(\n",
        "        title= 'Feature Importance',\n",
        "        ticklen= 5,\n",
        "        gridwidth= 2\n",
        "    ),\n",
        "    showlegend= False\n",
        ")\n",
        "fig = go.Figure(data=data, layout=layout)\n",
        "py.iplot(fig,filename='scatter2010')\n",
        "\n",
        "# Scatter plot \n",
        "trace = go.Scatter(\n",
        "    y = feature_dataframe['AdaBoost feature importances'].values,\n",
        "    x = feature_dataframe['features'].values,\n",
        "    mode='markers',\n",
        "    marker=dict(\n",
        "        sizemode = 'diameter',\n",
        "        sizeref = 1,\n",
        "        size = 25,\n",
        "#       size= feature_dataframe['AdaBoost feature importances'].values,\n",
        "        #color = np.random.randn(500), #set color equal to a variable\n",
        "        color = feature_dataframe['AdaBoost feature importances'].values,\n",
        "        colorscale='Portland',\n",
        "        showscale=True\n",
        "    ),\n",
        "    text = feature_dataframe['features'].values\n",
        ")\n",
        "data = [trace]\n",
        "\n",
        "layout= go.Layout(\n",
        "    autosize= True,\n",
        "    title= 'AdaBoost Feature Importance',\n",
        "    hovermode= 'closest',\n",
        "#     xaxis= dict(\n",
        "#         title= 'Pop',\n",
        "#         ticklen= 5,\n",
        "#         zeroline= False,\n",
        "#         gridwidth= 2,\n",
        "#     ),\n",
        "    yaxis=dict(\n",
        "        title= 'Feature Importance',\n",
        "        ticklen= 5,\n",
        "        gridwidth= 2\n",
        "    ),\n",
        "    showlegend= False\n",
        ")\n",
        "fig = go.Figure(data=data, layout=layout)\n",
        "py.iplot(fig,filename='scatter2010')\n",
        "\n",
        "# Scatter plot \n",
        "trace = go.Scatter(\n",
        "    y = feature_dataframe['Gradient Boost feature importances'].values,\n",
        "    x = feature_dataframe['features'].values,\n",
        "    mode='markers',\n",
        "    marker=dict(\n",
        "        sizemode = 'diameter',\n",
        "        sizeref = 1,\n",
        "        size = 25,\n",
        "#       size= feature_dataframe['AdaBoost feature importances'].values,\n",
        "        #color = np.random.randn(500), #set color equal to a variable\n",
        "        color = feature_dataframe['Gradient Boost feature importances'].values,\n",
        "        colorscale='Portland',\n",
        "        showscale=True\n",
        "    ),\n",
        "    text = feature_dataframe['features'].values\n",
        ")\n",
        "data = [trace]\n",
        "\n",
        "layout= go.Layout(\n",
        "    autosize= True,\n",
        "    title= 'Gradient Boosting Feature Importance',\n",
        "    hovermode= 'closest',\n",
        "#     xaxis= dict(\n",
        "#         title= 'Pop',\n",
        "#         ticklen= 5,\n",
        "#         zeroline= False,\n",
        "#         gridwidth= 2,\n",
        "#     ),\n",
        "    yaxis=dict(\n",
        "        title= 'Feature Importance',\n",
        "        ticklen= 5,\n",
        "        gridwidth= 2\n",
        "    ),\n",
        "    showlegend= False\n",
        ")\n",
        "fig = go.Figure(data=data, layout=layout)\n",
        "py.iplot(fig,filename='scatter2010')"
      ],
      "outputs": [
        {
          "output_type": "display_data",
          "data": {
            "application/vnd.plotly.v1+json": {
              "data": [
                {
                  "type": "scatter",
                  "y": [
                    0.1264321702216742,
                    0.20077645965982863,
                    0.03331050554976969,
                    0.020880735911573692,
                    0.07049248983535995,
                    0.02381242085436513,
                    0.10917150387105977,
                    0.06529151427436623,
                    0.06694346616615615,
                    0.013348026158619661,
                    0.2695407074972269
                  ],
                  "x": [
                    "Pclass",
                    "Sex",
                    "Age",
                    "Parch",
                    "Fare",
                    "Embarked",
                    "Name_length",
                    "Has_Cabin",
                    "FamilySize",
                    "IsAlone",
                    "Title"
                  ],
                  "mode": "markers",
                  "marker": {
                    "sizemode": "diameter",
                    "sizeref": 1,
                    "size": 25,
                    "color": [
                      0.1264321702216742,
                      0.20077645965982863,
                      0.03331050554976969,
                      0.020880735911573692,
                      0.07049248983535995,
                      0.02381242085436513,
                      0.10917150387105977,
                      0.06529151427436623,
                      0.06694346616615615,
                      0.013348026158619661,
                      0.2695407074972269
                    ],
                    "colorscale": "Portland",
                    "showscale": true
                  },
                  "text": [
                    "Pclass",
                    "Sex",
                    "Age",
                    "Parch",
                    "Fare",
                    "Embarked",
                    "Name_length",
                    "Has_Cabin",
                    "FamilySize",
                    "IsAlone",
                    "Title"
                  ]
                }
              ],
              "layout": {
                "autosize": true,
                "title": "Random Forest Feature Importance",
                "hovermode": "closest",
                "yaxis": {
                  "title": "Feature Importance",
                  "ticklen": 5,
                  "gridwidth": 2
                },
                "showlegend": false
              }
            },
            "text/html": [
              "<div id=\"8283118d-abc8-4b2c-b488-cf0285f2467a\" style=\"height: 525px; width: 100%;\" class=\"plotly-graph-div\"></div><script type=\"text/javascript\">require([\"plotly\"], function(Plotly) { window.PLOTLYENV=window.PLOTLYENV || {};window.PLOTLYENV.BASE_URL=\"https://plot.ly\";Plotly.newPlot(\"8283118d-abc8-4b2c-b488-cf0285f2467a\", [{\"type\": \"scatter\", \"y\": [0.1264321702216742, 0.20077645965982863, 0.03331050554976969, 0.020880735911573692, 0.07049248983535995, 0.02381242085436513, 0.10917150387105977, 0.06529151427436623, 0.06694346616615615, 0.013348026158619661, 0.2695407074972269], \"x\": [\"Pclass\", \"Sex\", \"Age\", \"Parch\", \"Fare\", \"Embarked\", \"Name_length\", \"Has_Cabin\", \"FamilySize\", \"IsAlone\", \"Title\"], \"mode\": \"markers\", \"marker\": {\"sizemode\": \"diameter\", \"sizeref\": 1, \"size\": 25, \"color\": [0.1264321702216742, 0.20077645965982863, 0.03331050554976969, 0.020880735911573692, 0.07049248983535995, 0.02381242085436513, 0.10917150387105977, 0.06529151427436623, 0.06694346616615615, 0.013348026158619661, 0.2695407074972269], \"colorscale\": \"Portland\", \"showscale\": true}, \"text\": [\"Pclass\", \"Sex\", \"Age\", \"Parch\", \"Fare\", \"Embarked\", \"Name_length\", \"Has_Cabin\", \"FamilySize\", \"IsAlone\", \"Title\"]}], {\"autosize\": true, \"title\": \"Random Forest Feature Importance\", \"hovermode\": \"closest\", \"yaxis\": {\"title\": \"Feature Importance\", \"ticklen\": 5, \"gridwidth\": 2}, \"showlegend\": false}, {\"showLink\": true, \"linkText\": \"Export to plot.ly\"})});</script>"
            ],
            "text/vnd.plotly.v1+html": [
              "<div id=\"8283118d-abc8-4b2c-b488-cf0285f2467a\" style=\"height: 525px; width: 100%;\" class=\"plotly-graph-div\"></div><script type=\"text/javascript\">require([\"plotly\"], function(Plotly) { window.PLOTLYENV=window.PLOTLYENV || {};window.PLOTLYENV.BASE_URL=\"https://plot.ly\";Plotly.newPlot(\"8283118d-abc8-4b2c-b488-cf0285f2467a\", [{\"type\": \"scatter\", \"y\": [0.1264321702216742, 0.20077645965982863, 0.03331050554976969, 0.020880735911573692, 0.07049248983535995, 0.02381242085436513, 0.10917150387105977, 0.06529151427436623, 0.06694346616615615, 0.013348026158619661, 0.2695407074972269], \"x\": [\"Pclass\", \"Sex\", \"Age\", \"Parch\", \"Fare\", \"Embarked\", \"Name_length\", \"Has_Cabin\", \"FamilySize\", \"IsAlone\", \"Title\"], \"mode\": \"markers\", \"marker\": {\"sizemode\": \"diameter\", \"sizeref\": 1, \"size\": 25, \"color\": [0.1264321702216742, 0.20077645965982863, 0.03331050554976969, 0.020880735911573692, 0.07049248983535995, 0.02381242085436513, 0.10917150387105977, 0.06529151427436623, 0.06694346616615615, 0.013348026158619661, 0.2695407074972269], \"colorscale\": \"Portland\", \"showscale\": true}, \"text\": [\"Pclass\", \"Sex\", \"Age\", \"Parch\", \"Fare\", \"Embarked\", \"Name_length\", \"Has_Cabin\", \"FamilySize\", \"IsAlone\", \"Title\"]}], {\"autosize\": true, \"title\": \"Random Forest Feature Importance\", \"hovermode\": \"closest\", \"yaxis\": {\"title\": \"Feature Importance\", \"ticklen\": 5, \"gridwidth\": 2}, \"showlegend\": false}, {\"showLink\": true, \"linkText\": \"Export to plot.ly\"})});</script>"
            ]
          },
          "metadata": {}
        },
        {
          "output_type": "display_data",
          "data": {
            "application/vnd.plotly.v1+json": {
              "data": [
                {
                  "type": "scatter",
                  "y": [
                    0.11737836200419303,
                    0.37807979366074024,
                    0.0290492317707811,
                    0.01658658294521759,
                    0.05649746394880321,
                    0.027349480619883536,
                    0.04591190212995888,
                    0.08381130101294644,
                    0.04844130331257978,
                    0.02194416294352163,
                    0.17495041565137456
                  ],
                  "x": [
                    "Pclass",
                    "Sex",
                    "Age",
                    "Parch",
                    "Fare",
                    "Embarked",
                    "Name_length",
                    "Has_Cabin",
                    "FamilySize",
                    "IsAlone",
                    "Title"
                  ],
                  "mode": "markers",
                  "marker": {
                    "sizemode": "diameter",
                    "sizeref": 1,
                    "size": 25,
                    "color": [
                      0.11737836200419303,
                      0.37807979366074024,
                      0.0290492317707811,
                      0.01658658294521759,
                      0.05649746394880321,
                      0.027349480619883536,
                      0.04591190212995888,
                      0.08381130101294644,
                      0.04844130331257978,
                      0.02194416294352163,
                      0.17495041565137456
                    ],
                    "colorscale": "Portland",
                    "showscale": true
                  },
                  "text": [
                    "Pclass",
                    "Sex",
                    "Age",
                    "Parch",
                    "Fare",
                    "Embarked",
                    "Name_length",
                    "Has_Cabin",
                    "FamilySize",
                    "IsAlone",
                    "Title"
                  ]
                }
              ],
              "layout": {
                "autosize": true,
                "title": "Extra Trees Feature Importance",
                "hovermode": "closest",
                "yaxis": {
                  "title": "Feature Importance",
                  "ticklen": 5,
                  "gridwidth": 2
                },
                "showlegend": false
              }
            },
            "text/html": [
              "<div id=\"8fdc75ec-eb45-417b-9462-192702d223b4\" style=\"height: 525px; width: 100%;\" class=\"plotly-graph-div\"></div><script type=\"text/javascript\">require([\"plotly\"], function(Plotly) { window.PLOTLYENV=window.PLOTLYENV || {};window.PLOTLYENV.BASE_URL=\"https://plot.ly\";Plotly.newPlot(\"8fdc75ec-eb45-417b-9462-192702d223b4\", [{\"type\": \"scatter\", \"y\": [0.11737836200419303, 0.37807979366074024, 0.0290492317707811, 0.01658658294521759, 0.05649746394880321, 0.027349480619883536, 0.04591190212995888, 0.08381130101294644, 0.04844130331257978, 0.02194416294352163, 0.17495041565137456], \"x\": [\"Pclass\", \"Sex\", \"Age\", \"Parch\", \"Fare\", \"Embarked\", \"Name_length\", \"Has_Cabin\", \"FamilySize\", \"IsAlone\", \"Title\"], \"mode\": \"markers\", \"marker\": {\"sizemode\": \"diameter\", \"sizeref\": 1, \"size\": 25, \"color\": [0.11737836200419303, 0.37807979366074024, 0.0290492317707811, 0.01658658294521759, 0.05649746394880321, 0.027349480619883536, 0.04591190212995888, 0.08381130101294644, 0.04844130331257978, 0.02194416294352163, 0.17495041565137456], \"colorscale\": \"Portland\", \"showscale\": true}, \"text\": [\"Pclass\", \"Sex\", \"Age\", \"Parch\", \"Fare\", \"Embarked\", \"Name_length\", \"Has_Cabin\", \"FamilySize\", \"IsAlone\", \"Title\"]}], {\"autosize\": true, \"title\": \"Extra Trees Feature Importance\", \"hovermode\": \"closest\", \"yaxis\": {\"title\": \"Feature Importance\", \"ticklen\": 5, \"gridwidth\": 2}, \"showlegend\": false}, {\"showLink\": true, \"linkText\": \"Export to plot.ly\"})});</script>"
            ],
            "text/vnd.plotly.v1+html": [
              "<div id=\"8fdc75ec-eb45-417b-9462-192702d223b4\" style=\"height: 525px; width: 100%;\" class=\"plotly-graph-div\"></div><script type=\"text/javascript\">require([\"plotly\"], function(Plotly) { window.PLOTLYENV=window.PLOTLYENV || {};window.PLOTLYENV.BASE_URL=\"https://plot.ly\";Plotly.newPlot(\"8fdc75ec-eb45-417b-9462-192702d223b4\", [{\"type\": \"scatter\", \"y\": [0.11737836200419303, 0.37807979366074024, 0.0290492317707811, 0.01658658294521759, 0.05649746394880321, 0.027349480619883536, 0.04591190212995888, 0.08381130101294644, 0.04844130331257978, 0.02194416294352163, 0.17495041565137456], \"x\": [\"Pclass\", \"Sex\", \"Age\", \"Parch\", \"Fare\", \"Embarked\", \"Name_length\", \"Has_Cabin\", \"FamilySize\", \"IsAlone\", \"Title\"], \"mode\": \"markers\", \"marker\": {\"sizemode\": \"diameter\", \"sizeref\": 1, \"size\": 25, \"color\": [0.11737836200419303, 0.37807979366074024, 0.0290492317707811, 0.01658658294521759, 0.05649746394880321, 0.027349480619883536, 0.04591190212995888, 0.08381130101294644, 0.04844130331257978, 0.02194416294352163, 0.17495041565137456], \"colorscale\": \"Portland\", \"showscale\": true}, \"text\": [\"Pclass\", \"Sex\", \"Age\", \"Parch\", \"Fare\", \"Embarked\", \"Name_length\", \"Has_Cabin\", \"FamilySize\", \"IsAlone\", \"Title\"]}], {\"autosize\": true, \"title\": \"Extra Trees Feature Importance\", \"hovermode\": \"closest\", \"yaxis\": {\"title\": \"Feature Importance\", \"ticklen\": 5, \"gridwidth\": 2}, \"showlegend\": false}, {\"showLink\": true, \"linkText\": \"Export to plot.ly\"})});</script>"
            ]
          },
          "metadata": {}
        },
        {
          "output_type": "display_data",
          "data": {
            "application/vnd.plotly.v1+json": {
              "data": [
                {
                  "type": "scatter",
                  "y": [
                    0.028,
                    0.012,
                    0.012,
                    0.066,
                    0.036,
                    0.01,
                    0.71,
                    0.012,
                    0.046,
                    0.004,
                    0.064
                  ],
                  "x": [
                    "Pclass",
                    "Sex",
                    "Age",
                    "Parch",
                    "Fare",
                    "Embarked",
                    "Name_length",
                    "Has_Cabin",
                    "FamilySize",
                    "IsAlone",
                    "Title"
                  ],
                  "mode": "markers",
                  "marker": {
                    "sizemode": "diameter",
                    "sizeref": 1,
                    "size": 25,
                    "color": [
                      0.028,
                      0.012,
                      0.012,
                      0.066,
                      0.036,
                      0.01,
                      0.71,
                      0.012,
                      0.046,
                      0.004,
                      0.064
                    ],
                    "colorscale": "Portland",
                    "showscale": true
                  },
                  "text": [
                    "Pclass",
                    "Sex",
                    "Age",
                    "Parch",
                    "Fare",
                    "Embarked",
                    "Name_length",
                    "Has_Cabin",
                    "FamilySize",
                    "IsAlone",
                    "Title"
                  ]
                }
              ],
              "layout": {
                "autosize": true,
                "title": "AdaBoost Feature Importance",
                "hovermode": "closest",
                "yaxis": {
                  "title": "Feature Importance",
                  "ticklen": 5,
                  "gridwidth": 2
                },
                "showlegend": false
              }
            },
            "text/html": [
              "<div id=\"f0fe2dca-9cb3-4f87-a4c4-18c703333769\" style=\"height: 525px; width: 100%;\" class=\"plotly-graph-div\"></div><script type=\"text/javascript\">require([\"plotly\"], function(Plotly) { window.PLOTLYENV=window.PLOTLYENV || {};window.PLOTLYENV.BASE_URL=\"https://plot.ly\";Plotly.newPlot(\"f0fe2dca-9cb3-4f87-a4c4-18c703333769\", [{\"type\": \"scatter\", \"y\": [0.028, 0.012, 0.012, 0.066, 0.036, 0.01, 0.71, 0.012, 0.046, 0.004, 0.064], \"x\": [\"Pclass\", \"Sex\", \"Age\", \"Parch\", \"Fare\", \"Embarked\", \"Name_length\", \"Has_Cabin\", \"FamilySize\", \"IsAlone\", \"Title\"], \"mode\": \"markers\", \"marker\": {\"sizemode\": \"diameter\", \"sizeref\": 1, \"size\": 25, \"color\": [0.028, 0.012, 0.012, 0.066, 0.036, 0.01, 0.71, 0.012, 0.046, 0.004, 0.064], \"colorscale\": \"Portland\", \"showscale\": true}, \"text\": [\"Pclass\", \"Sex\", \"Age\", \"Parch\", \"Fare\", \"Embarked\", \"Name_length\", \"Has_Cabin\", \"FamilySize\", \"IsAlone\", \"Title\"]}], {\"autosize\": true, \"title\": \"AdaBoost Feature Importance\", \"hovermode\": \"closest\", \"yaxis\": {\"title\": \"Feature Importance\", \"ticklen\": 5, \"gridwidth\": 2}, \"showlegend\": false}, {\"showLink\": true, \"linkText\": \"Export to plot.ly\"})});</script>"
            ],
            "text/vnd.plotly.v1+html": [
              "<div id=\"f0fe2dca-9cb3-4f87-a4c4-18c703333769\" style=\"height: 525px; width: 100%;\" class=\"plotly-graph-div\"></div><script type=\"text/javascript\">require([\"plotly\"], function(Plotly) { window.PLOTLYENV=window.PLOTLYENV || {};window.PLOTLYENV.BASE_URL=\"https://plot.ly\";Plotly.newPlot(\"f0fe2dca-9cb3-4f87-a4c4-18c703333769\", [{\"type\": \"scatter\", \"y\": [0.028, 0.012, 0.012, 0.066, 0.036, 0.01, 0.71, 0.012, 0.046, 0.004, 0.064], \"x\": [\"Pclass\", \"Sex\", \"Age\", \"Parch\", \"Fare\", \"Embarked\", \"Name_length\", \"Has_Cabin\", \"FamilySize\", \"IsAlone\", \"Title\"], \"mode\": \"markers\", \"marker\": {\"sizemode\": \"diameter\", \"sizeref\": 1, \"size\": 25, \"color\": [0.028, 0.012, 0.012, 0.066, 0.036, 0.01, 0.71, 0.012, 0.046, 0.004, 0.064], \"colorscale\": \"Portland\", \"showscale\": true}, \"text\": [\"Pclass\", \"Sex\", \"Age\", \"Parch\", \"Fare\", \"Embarked\", \"Name_length\", \"Has_Cabin\", \"FamilySize\", \"IsAlone\", \"Title\"]}], {\"autosize\": true, \"title\": \"AdaBoost Feature Importance\", \"hovermode\": \"closest\", \"yaxis\": {\"title\": \"Feature Importance\", \"ticklen\": 5, \"gridwidth\": 2}, \"showlegend\": false}, {\"showLink\": true, \"linkText\": \"Export to plot.ly\"})});</script>"
            ]
          },
          "metadata": {}
        },
        {
          "output_type": "display_data",
          "data": {
            "application/vnd.plotly.v1+json": {
              "data": [
                {
                  "type": "scatter",
                  "y": [
                    0.08114507900503626,
                    0.033014388717055435,
                    0.10706554567149099,
                    0.031020204494726186,
                    0.09427508247339485,
                    0.05567712714017824,
                    0.3889288494934075,
                    0.01677134749309449,
                    0.07871362305104415,
                    0.026582241507801748,
                    0.08680651095277109
                  ],
                  "x": [
                    "Pclass",
                    "Sex",
                    "Age",
                    "Parch",
                    "Fare",
                    "Embarked",
                    "Name_length",
                    "Has_Cabin",
                    "FamilySize",
                    "IsAlone",
                    "Title"
                  ],
                  "mode": "markers",
                  "marker": {
                    "sizemode": "diameter",
                    "sizeref": 1,
                    "size": 25,
                    "color": [
                      0.08114507900503626,
                      0.033014388717055435,
                      0.10706554567149099,
                      0.031020204494726186,
                      0.09427508247339485,
                      0.05567712714017824,
                      0.3889288494934075,
                      0.01677134749309449,
                      0.07871362305104415,
                      0.026582241507801748,
                      0.08680651095277109
                    ],
                    "colorscale": "Portland",
                    "showscale": true
                  },
                  "text": [
                    "Pclass",
                    "Sex",
                    "Age",
                    "Parch",
                    "Fare",
                    "Embarked",
                    "Name_length",
                    "Has_Cabin",
                    "FamilySize",
                    "IsAlone",
                    "Title"
                  ]
                }
              ],
              "layout": {
                "autosize": true,
                "title": "Gradient Boosting Feature Importance",
                "hovermode": "closest",
                "yaxis": {
                  "title": "Feature Importance",
                  "ticklen": 5,
                  "gridwidth": 2
                },
                "showlegend": false
              }
            },
            "text/html": [
              "<div id=\"4991162c-b3f0-4047-8104-201008a775c9\" style=\"height: 525px; width: 100%;\" class=\"plotly-graph-div\"></div><script type=\"text/javascript\">require([\"plotly\"], function(Plotly) { window.PLOTLYENV=window.PLOTLYENV || {};window.PLOTLYENV.BASE_URL=\"https://plot.ly\";Plotly.newPlot(\"4991162c-b3f0-4047-8104-201008a775c9\", [{\"type\": \"scatter\", \"y\": [0.08114507900503626, 0.033014388717055435, 0.10706554567149099, 0.031020204494726186, 0.09427508247339485, 0.05567712714017824, 0.3889288494934075, 0.01677134749309449, 0.07871362305104415, 0.026582241507801748, 0.08680651095277109], \"x\": [\"Pclass\", \"Sex\", \"Age\", \"Parch\", \"Fare\", \"Embarked\", \"Name_length\", \"Has_Cabin\", \"FamilySize\", \"IsAlone\", \"Title\"], \"mode\": \"markers\", \"marker\": {\"sizemode\": \"diameter\", \"sizeref\": 1, \"size\": 25, \"color\": [0.08114507900503626, 0.033014388717055435, 0.10706554567149099, 0.031020204494726186, 0.09427508247339485, 0.05567712714017824, 0.3889288494934075, 0.01677134749309449, 0.07871362305104415, 0.026582241507801748, 0.08680651095277109], \"colorscale\": \"Portland\", \"showscale\": true}, \"text\": [\"Pclass\", \"Sex\", \"Age\", \"Parch\", \"Fare\", \"Embarked\", \"Name_length\", \"Has_Cabin\", \"FamilySize\", \"IsAlone\", \"Title\"]}], {\"autosize\": true, \"title\": \"Gradient Boosting Feature Importance\", \"hovermode\": \"closest\", \"yaxis\": {\"title\": \"Feature Importance\", \"ticklen\": 5, \"gridwidth\": 2}, \"showlegend\": false}, {\"showLink\": true, \"linkText\": \"Export to plot.ly\"})});</script>"
            ],
            "text/vnd.plotly.v1+html": [
              "<div id=\"4991162c-b3f0-4047-8104-201008a775c9\" style=\"height: 525px; width: 100%;\" class=\"plotly-graph-div\"></div><script type=\"text/javascript\">require([\"plotly\"], function(Plotly) { window.PLOTLYENV=window.PLOTLYENV || {};window.PLOTLYENV.BASE_URL=\"https://plot.ly\";Plotly.newPlot(\"4991162c-b3f0-4047-8104-201008a775c9\", [{\"type\": \"scatter\", \"y\": [0.08114507900503626, 0.033014388717055435, 0.10706554567149099, 0.031020204494726186, 0.09427508247339485, 0.05567712714017824, 0.3889288494934075, 0.01677134749309449, 0.07871362305104415, 0.026582241507801748, 0.08680651095277109], \"x\": [\"Pclass\", \"Sex\", \"Age\", \"Parch\", \"Fare\", \"Embarked\", \"Name_length\", \"Has_Cabin\", \"FamilySize\", \"IsAlone\", \"Title\"], \"mode\": \"markers\", \"marker\": {\"sizemode\": \"diameter\", \"sizeref\": 1, \"size\": 25, \"color\": [0.08114507900503626, 0.033014388717055435, 0.10706554567149099, 0.031020204494726186, 0.09427508247339485, 0.05567712714017824, 0.3889288494934075, 0.01677134749309449, 0.07871362305104415, 0.026582241507801748, 0.08680651095277109], \"colorscale\": \"Portland\", \"showscale\": true}, \"text\": [\"Pclass\", \"Sex\", \"Age\", \"Parch\", \"Fare\", \"Embarked\", \"Name_length\", \"Has_Cabin\", \"FamilySize\", \"IsAlone\", \"Title\"]}], {\"autosize\": true, \"title\": \"Gradient Boosting Feature Importance\", \"hovermode\": \"closest\", \"yaxis\": {\"title\": \"Feature Importance\", \"ticklen\": 5, \"gridwidth\": 2}, \"showlegend\": false}, {\"showLink\": true, \"linkText\": \"Export to plot.ly\"})});</script>"
            ]
          },
          "metadata": {}
        }
      ],
      "execution_count": 20,
      "metadata": {
        "collapsed": false,
        "outputHidden": false,
        "inputHidden": false
      }
    },
    {
      "cell_type": "code",
      "source": [
        "# 计算所有特征的均值，存到特征重要性dataframe的新的列中\n",
        "feature_dataframe['mean'] = feature_dataframe.mean(axis=1)\n",
        "feature_dataframe.head(2)"
      ],
      "outputs": [
        {
          "output_type": "execute_result",
          "execution_count": 21,
          "data": {
            "text/plain": [
              "   AdaBoost feature importances  Extra Trees  feature importances  \\\n",
              "0                         0.028                          0.117378   \n",
              "1                         0.012                          0.378080   \n",
              "\n",
              "   Gradient Boost feature importances  Random Forest feature importances  \\\n",
              "0                            0.081145                           0.126432   \n",
              "1                            0.033014                           0.200776   \n",
              "\n",
              "  features      mean  \n",
              "0   Pclass  0.088239  \n",
              "1      Sex  0.155968  "
            ],
            "text/html": [
              "<div>\n",
              "<style scoped>\n",
              "    .dataframe tbody tr th:only-of-type {\n",
              "        vertical-align: middle;\n",
              "    }\n",
              "\n",
              "    .dataframe tbody tr th {\n",
              "        vertical-align: top;\n",
              "    }\n",
              "\n",
              "    .dataframe thead th {\n",
              "        text-align: right;\n",
              "    }\n",
              "</style>\n",
              "<table border=\"1\" class=\"dataframe\">\n",
              "  <thead>\n",
              "    <tr style=\"text-align: right;\">\n",
              "      <th></th>\n",
              "      <th>AdaBoost feature importances</th>\n",
              "      <th>Extra Trees  feature importances</th>\n",
              "      <th>Gradient Boost feature importances</th>\n",
              "      <th>Random Forest feature importances</th>\n",
              "      <th>features</th>\n",
              "      <th>mean</th>\n",
              "    </tr>\n",
              "  </thead>\n",
              "  <tbody>\n",
              "    <tr>\n",
              "      <th>0</th>\n",
              "      <td>0.028</td>\n",
              "      <td>0.117378</td>\n",
              "      <td>0.081145</td>\n",
              "      <td>0.126432</td>\n",
              "      <td>Pclass</td>\n",
              "      <td>0.088239</td>\n",
              "    </tr>\n",
              "    <tr>\n",
              "      <th>1</th>\n",
              "      <td>0.012</td>\n",
              "      <td>0.378080</td>\n",
              "      <td>0.033014</td>\n",
              "      <td>0.200776</td>\n",
              "      <td>Sex</td>\n",
              "      <td>0.155968</td>\n",
              "    </tr>\n",
              "  </tbody>\n",
              "</table>\n",
              "</div>"
            ]
          },
          "metadata": {}
        }
      ],
      "execution_count": 21,
      "metadata": {
        "collapsed": false,
        "outputHidden": false,
        "inputHidden": false
      }
    },
    {
      "cell_type": "code",
      "source": [
        "# 绘制特征平均重要性 柱状图\n",
        "y = feature_dataframe['mean'].values\n",
        "x = feature_dataframe['features'].values\n",
        "data = [go.Bar(\n",
        "            x= x,\n",
        "             y= y,\n",
        "            width = 0.5,\n",
        "            marker=dict(\n",
        "               color = feature_dataframe['mean'].values,\n",
        "            colorscale='Portland',\n",
        "            showscale=True,\n",
        "            reversescale = False\n",
        "            ),\n",
        "            opacity=0.6\n",
        "        )]\n",
        "\n",
        "layout= go.Layout(\n",
        "    autosize= True,\n",
        "    title= 'Barplots of Mean Feature Importance',\n",
        "    hovermode= 'closest',\n",
        "#     xaxis= dict(\n",
        "#         title= 'Pop',\n",
        "#         ticklen= 5,\n",
        "#         zeroline= False,\n",
        "#         gridwidth= 2,\n",
        "#     ),\n",
        "    yaxis=dict(\n",
        "        title= 'Feature Importance',\n",
        "        ticklen= 5,\n",
        "        gridwidth= 2\n",
        "    ),\n",
        "    showlegend= False\n",
        ")\n",
        "fig = go.Figure(data=data, layout=layout)\n",
        "py.iplot(fig, filename='bar-direct-labels')"
      ],
      "outputs": [
        {
          "output_type": "display_data",
          "data": {
            "application/vnd.plotly.v1+json": {
              "data": [
                {
                  "type": "bar",
                  "x": [
                    "Pclass",
                    "Sex",
                    "Age",
                    "Parch",
                    "Fare",
                    "Embarked",
                    "Name_length",
                    "Has_Cabin",
                    "FamilySize",
                    "IsAlone",
                    "Title"
                  ],
                  "y": [
                    0.08823890280772587,
                    0.15596766050940608,
                    0.045356320748010444,
                    0.03362188083787937,
                    0.0643162590643895,
                    0.029209757153606727,
                    0.3135030638736065,
                    0.04446854069510179,
                    0.06002459813244502,
                    0.01646860765248576,
                    0.14882440852534315
                  ],
                  "width": 0.5,
                  "marker": {
                    "color": [
                      0.08823890280772587,
                      0.15596766050940608,
                      0.045356320748010444,
                      0.03362188083787937,
                      0.0643162590643895,
                      0.029209757153606727,
                      0.3135030638736065,
                      0.04446854069510179,
                      0.06002459813244502,
                      0.01646860765248576,
                      0.14882440852534315
                    ],
                    "colorscale": "Portland",
                    "showscale": true,
                    "reversescale": false
                  },
                  "opacity": 0.6
                }
              ],
              "layout": {
                "autosize": true,
                "title": "Barplots of Mean Feature Importance",
                "hovermode": "closest",
                "yaxis": {
                  "title": "Feature Importance",
                  "ticklen": 5,
                  "gridwidth": 2
                },
                "showlegend": false
              }
            },
            "text/html": [
              "<div id=\"79e53d7d-8d89-4533-be0c-7155320dd54d\" style=\"height: 525px; width: 100%;\" class=\"plotly-graph-div\"></div><script type=\"text/javascript\">require([\"plotly\"], function(Plotly) { window.PLOTLYENV=window.PLOTLYENV || {};window.PLOTLYENV.BASE_URL=\"https://plot.ly\";Plotly.newPlot(\"79e53d7d-8d89-4533-be0c-7155320dd54d\", [{\"type\": \"bar\", \"x\": [\"Pclass\", \"Sex\", \"Age\", \"Parch\", \"Fare\", \"Embarked\", \"Name_length\", \"Has_Cabin\", \"FamilySize\", \"IsAlone\", \"Title\"], \"y\": [0.08823890280772587, 0.15596766050940608, 0.045356320748010444, 0.03362188083787937, 0.0643162590643895, 0.029209757153606727, 0.3135030638736065, 0.04446854069510179, 0.06002459813244502, 0.01646860765248576, 0.14882440852534315], \"width\": 0.5, \"marker\": {\"color\": [0.08823890280772587, 0.15596766050940608, 0.045356320748010444, 0.03362188083787937, 0.0643162590643895, 0.029209757153606727, 0.3135030638736065, 0.04446854069510179, 0.06002459813244502, 0.01646860765248576, 0.14882440852534315], \"colorscale\": \"Portland\", \"showscale\": true, \"reversescale\": false}, \"opacity\": 0.6}], {\"autosize\": true, \"title\": \"Barplots of Mean Feature Importance\", \"hovermode\": \"closest\", \"yaxis\": {\"title\": \"Feature Importance\", \"ticklen\": 5, \"gridwidth\": 2}, \"showlegend\": false}, {\"showLink\": true, \"linkText\": \"Export to plot.ly\"})});</script>"
            ],
            "text/vnd.plotly.v1+html": [
              "<div id=\"79e53d7d-8d89-4533-be0c-7155320dd54d\" style=\"height: 525px; width: 100%;\" class=\"plotly-graph-div\"></div><script type=\"text/javascript\">require([\"plotly\"], function(Plotly) { window.PLOTLYENV=window.PLOTLYENV || {};window.PLOTLYENV.BASE_URL=\"https://plot.ly\";Plotly.newPlot(\"79e53d7d-8d89-4533-be0c-7155320dd54d\", [{\"type\": \"bar\", \"x\": [\"Pclass\", \"Sex\", \"Age\", \"Parch\", \"Fare\", \"Embarked\", \"Name_length\", \"Has_Cabin\", \"FamilySize\", \"IsAlone\", \"Title\"], \"y\": [0.08823890280772587, 0.15596766050940608, 0.045356320748010444, 0.03362188083787937, 0.0643162590643895, 0.029209757153606727, 0.3135030638736065, 0.04446854069510179, 0.06002459813244502, 0.01646860765248576, 0.14882440852534315], \"width\": 0.5, \"marker\": {\"color\": [0.08823890280772587, 0.15596766050940608, 0.045356320748010444, 0.03362188083787937, 0.0643162590643895, 0.029209757153606727, 0.3135030638736065, 0.04446854069510179, 0.06002459813244502, 0.01646860765248576, 0.14882440852534315], \"colorscale\": \"Portland\", \"showscale\": true, \"reversescale\": false}, \"opacity\": 0.6}], {\"autosize\": true, \"title\": \"Barplots of Mean Feature Importance\", \"hovermode\": \"closest\", \"yaxis\": {\"title\": \"Feature Importance\", \"ticklen\": 5, \"gridwidth\": 2}, \"showlegend\": false}, {\"showLink\": true, \"linkText\": \"Export to plot.ly\"})});</script>"
            ]
          },
          "metadata": {}
        }
      ],
      "execution_count": 22,
      "metadata": {
        "collapsed": false,
        "outputHidden": false,
        "inputHidden": false
      }
    },
    {
      "cell_type": "markdown",
      "source": [
        "## 根据一级输出进行二级预测"
      ],
      "metadata": {}
    },
    {
      "cell_type": "code",
      "source": [
        "# 将五个模型的预测结果作为新的二级模型的训练集\n",
        "base_predictions_train = pd.DataFrame({\n",
        "    'RandomForest': rf_oof_train.ravel(),\n",
        "    'ExtraTrees': et_oof_train.ravel(),\n",
        "    'AdaBoost': ada_oof_train.ravel(),\n",
        "    'GradientBoost': gb_oof_train.ravel()\n",
        "})\n",
        "base_predictions_train.head()"
      ],
      "outputs": [
        {
          "output_type": "execute_result",
          "execution_count": 24,
          "data": {
            "text/plain": [
              "   AdaBoost  ExtraTrees  GradientBoost  RandomForest\n",
              "0       0.0         0.0            0.0           0.0\n",
              "1       1.0         1.0            1.0           1.0\n",
              "2       1.0         0.0            1.0           0.0\n",
              "3       1.0         1.0            1.0           1.0\n",
              "4       0.0         0.0            0.0           0.0"
            ],
            "text/html": [
              "<div>\n",
              "<style scoped>\n",
              "    .dataframe tbody tr th:only-of-type {\n",
              "        vertical-align: middle;\n",
              "    }\n",
              "\n",
              "    .dataframe tbody tr th {\n",
              "        vertical-align: top;\n",
              "    }\n",
              "\n",
              "    .dataframe thead th {\n",
              "        text-align: right;\n",
              "    }\n",
              "</style>\n",
              "<table border=\"1\" class=\"dataframe\">\n",
              "  <thead>\n",
              "    <tr style=\"text-align: right;\">\n",
              "      <th></th>\n",
              "      <th>AdaBoost</th>\n",
              "      <th>ExtraTrees</th>\n",
              "      <th>GradientBoost</th>\n",
              "      <th>RandomForest</th>\n",
              "    </tr>\n",
              "  </thead>\n",
              "  <tbody>\n",
              "    <tr>\n",
              "      <th>0</th>\n",
              "      <td>0.0</td>\n",
              "      <td>0.0</td>\n",
              "      <td>0.0</td>\n",
              "      <td>0.0</td>\n",
              "    </tr>\n",
              "    <tr>\n",
              "      <th>1</th>\n",
              "      <td>1.0</td>\n",
              "      <td>1.0</td>\n",
              "      <td>1.0</td>\n",
              "      <td>1.0</td>\n",
              "    </tr>\n",
              "    <tr>\n",
              "      <th>2</th>\n",
              "      <td>1.0</td>\n",
              "      <td>0.0</td>\n",
              "      <td>1.0</td>\n",
              "      <td>0.0</td>\n",
              "    </tr>\n",
              "    <tr>\n",
              "      <th>3</th>\n",
              "      <td>1.0</td>\n",
              "      <td>1.0</td>\n",
              "      <td>1.0</td>\n",
              "      <td>1.0</td>\n",
              "    </tr>\n",
              "    <tr>\n",
              "      <th>4</th>\n",
              "      <td>0.0</td>\n",
              "      <td>0.0</td>\n",
              "      <td>0.0</td>\n",
              "      <td>0.0</td>\n",
              "    </tr>\n",
              "  </tbody>\n",
              "</table>\n",
              "</div>"
            ]
          },
          "metadata": {}
        }
      ],
      "execution_count": 24,
      "metadata": {
        "collapsed": false,
        "outputHidden": false,
        "inputHidden": false
      }
    },
    {
      "cell_type": "code",
      "source": [
        "# 二级训练集的相关系数热图 模型之间越不相关 得分越好\n",
        "data = [\n",
        "    go.Heatmap(\n",
        "        z= base_predictions_train.astype(float).corr().values ,\n",
        "        x=base_predictions_train.columns.values,\n",
        "        y= base_predictions_train.columns.values,\n",
        "          colorscale='Viridis',\n",
        "            showscale=True,\n",
        "            reversescale = True\n",
        "    )\n",
        "]\n",
        "py.iplot(data, filename='labelled-heatmap')"
      ],
      "outputs": [
        {
          "output_type": "display_data",
          "data": {
            "application/vnd.plotly.v1+json": {
              "data": [
                {
                  "type": "heatmap",
                  "z": [
                    [
                      1,
                      0.7952627195617865,
                      0.6569880929143033,
                      0.7723869383602515
                    ],
                    [
                      0.7952627195617865,
                      1,
                      0.7212921287891139,
                      0.8682621697869096
                    ],
                    [
                      0.6569880929143033,
                      0.7212921287891139,
                      1,
                      0.7336363024611833
                    ],
                    [
                      0.7723869383602515,
                      0.8682621697869096,
                      0.7336363024611833,
                      1
                    ]
                  ],
                  "x": [
                    "AdaBoost",
                    "ExtraTrees",
                    "GradientBoost",
                    "RandomForest"
                  ],
                  "y": [
                    "AdaBoost",
                    "ExtraTrees",
                    "GradientBoost",
                    "RandomForest"
                  ],
                  "colorscale": "Viridis",
                  "showscale": true,
                  "reversescale": true
                }
              ],
              "layout": {}
            },
            "text/html": [
              "<div id=\"4da606f5-9275-4020-ba4e-0299c3468a7b\" style=\"height: 525px; width: 100%;\" class=\"plotly-graph-div\"></div><script type=\"text/javascript\">require([\"plotly\"], function(Plotly) { window.PLOTLYENV=window.PLOTLYENV || {};window.PLOTLYENV.BASE_URL=\"https://plot.ly\";Plotly.newPlot(\"4da606f5-9275-4020-ba4e-0299c3468a7b\", [{\"type\": \"heatmap\", \"z\": [[1.0, 0.7952627195617865, 0.6569880929143033, 0.7723869383602515], [0.7952627195617865, 1.0, 0.7212921287891139, 0.8682621697869096], [0.6569880929143033, 0.7212921287891139, 1.0, 0.7336363024611833], [0.7723869383602515, 0.8682621697869096, 0.7336363024611833, 1.0]], \"x\": [\"AdaBoost\", \"ExtraTrees\", \"GradientBoost\", \"RandomForest\"], \"y\": [\"AdaBoost\", \"ExtraTrees\", \"GradientBoost\", \"RandomForest\"], \"colorscale\": \"Viridis\", \"showscale\": true, \"reversescale\": true}], {}, {\"showLink\": true, \"linkText\": \"Export to plot.ly\"})});</script>"
            ],
            "text/vnd.plotly.v1+html": [
              "<div id=\"4da606f5-9275-4020-ba4e-0299c3468a7b\" style=\"height: 525px; width: 100%;\" class=\"plotly-graph-div\"></div><script type=\"text/javascript\">require([\"plotly\"], function(Plotly) { window.PLOTLYENV=window.PLOTLYENV || {};window.PLOTLYENV.BASE_URL=\"https://plot.ly\";Plotly.newPlot(\"4da606f5-9275-4020-ba4e-0299c3468a7b\", [{\"type\": \"heatmap\", \"z\": [[1.0, 0.7952627195617865, 0.6569880929143033, 0.7723869383602515], [0.7952627195617865, 1.0, 0.7212921287891139, 0.8682621697869096], [0.6569880929143033, 0.7212921287891139, 1.0, 0.7336363024611833], [0.7723869383602515, 0.8682621697869096, 0.7336363024611833, 1.0]], \"x\": [\"AdaBoost\", \"ExtraTrees\", \"GradientBoost\", \"RandomForest\"], \"y\": [\"AdaBoost\", \"ExtraTrees\", \"GradientBoost\", \"RandomForest\"], \"colorscale\": \"Viridis\", \"showscale\": true, \"reversescale\": true}], {}, {\"showLink\": true, \"linkText\": \"Export to plot.ly\"})});</script>"
            ]
          },
          "metadata": {}
        }
      ],
      "execution_count": 25,
      "metadata": {
        "collapsed": false,
        "outputHidden": false,
        "inputHidden": false
      }
    },
    {
      "cell_type": "code",
      "source": [
        "# 现在已经有了一级训练的预测x_train和测试的预测x_test，现在可以拟合二级模型了\n",
        "gbm = xgb.XGBClassifier(\n",
        "    n_estimators=2000,\n",
        "    max_depth=4,\n",
        "    min_child_weight=2,\n",
        "    gamma=0.9,\n",
        "    subsample=0.8,\n",
        "    colsample_bytree=0.8,\n",
        "    objective='binary:logistic',\n",
        "    nthread=-1,\n",
        "    scale_pos_weight=1    \n",
        ").fit(x_train, y_train)\n",
        "predictions = gbm.predict(x_test)"
      ],
      "outputs": [],
      "execution_count": 26,
      "metadata": {
        "collapsed": false,
        "outputHidden": false,
        "inputHidden": false
      }
    },
    {
      "cell_type": "code",
      "source": [
        "# 保存预测结果\n",
        "StackingSubmission = pd.DataFrame({\n",
        "    'PassenterId': PassengerId,\n",
        "    'Survived': predictions\n",
        "})\n",
        "StackingSubmission.to_csv(\"StackingSubmission.csv\", index=False)"
      ],
      "outputs": [],
      "execution_count": 28,
      "metadata": {
        "collapsed": false,
        "outputHidden": false,
        "inputHidden": false
      }
    },
    {
      "cell_type": "markdown",
      "source": [
        "# 总结"
      ],
      "metadata": {
        "collapsed": false,
        "outputHidden": false,
        "inputHidden": false
      }
    },
    {
      "cell_type": "markdown",
      "source": [
        "- 堆叠分类器可以超过两级，性能可能会更好\n",
        "- 可以在训练时采用交叉验证，找到最佳参数组合能提高性能\n",
        "- 可以引入更多种类的基础模型，模型结果越不相关，最终得分越高"
      ],
      "metadata": {}
    }
  ],
  "metadata": {
    "kernel_info": {
      "name": "python3"
    },
    "language_info": {
      "name": "python",
      "version": "3.6.5",
      "mimetype": "text/x-python",
      "codemirror_mode": {
        "name": "ipython",
        "version": 3
      },
      "pygments_lexer": "ipython3",
      "nbconvert_exporter": "python",
      "file_extension": ".py"
    },
    "kernelspec": {
      "name": "python3",
      "language": "python",
      "display_name": "Python 3"
    },
    "nteract": {
      "version": "0.12.3"
    }
  },
  "nbformat": 4,
  "nbformat_minor": 4
}